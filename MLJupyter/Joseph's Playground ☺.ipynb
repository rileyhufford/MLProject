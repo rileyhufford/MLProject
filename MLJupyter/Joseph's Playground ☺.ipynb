{
 "cells": [
  {
   "cell_type": "code",
   "execution_count": 1,
   "id": "d76fe128",
   "metadata": {},
   "outputs": [],
   "source": [
    "import pandas as pd\n",
    "import numpy as np\n",
    "import matplotlib.pyplot as plt\n",
    "import seaborn as sns"
   ]
  },
  {
   "cell_type": "code",
   "execution_count": 2,
   "id": "b0f616ac",
   "metadata": {},
   "outputs": [],
   "source": [
    "MalwareDataset = pd.read_csv(\"Joseph_MalData.csv\", sep=\"|\")"
   ]
  },
  {
   "cell_type": "code",
   "execution_count": 3,
   "id": "eaa22888",
   "metadata": {},
   "outputs": [
    {
     "data": {
      "text/html": [
       "<div>\n",
       "<style scoped>\n",
       "    .dataframe tbody tr th:only-of-type {\n",
       "        vertical-align: middle;\n",
       "    }\n",
       "\n",
       "    .dataframe tbody tr th {\n",
       "        vertical-align: top;\n",
       "    }\n",
       "\n",
       "    .dataframe thead th {\n",
       "        text-align: right;\n",
       "    }\n",
       "</style>\n",
       "<table border=\"1\" class=\"dataframe\">\n",
       "  <thead>\n",
       "    <tr style=\"text-align: right;\">\n",
       "      <th></th>\n",
       "      <th>Name</th>\n",
       "      <th>md5</th>\n",
       "      <th>Machine</th>\n",
       "      <th>SizeOfOptionalHeader</th>\n",
       "      <th>Characteristics</th>\n",
       "      <th>MajorLinkerVersion</th>\n",
       "      <th>MinorLinkerVersion</th>\n",
       "      <th>SizeOfCode</th>\n",
       "      <th>SizeOfInitializedData</th>\n",
       "      <th>SizeOfUninitializedData</th>\n",
       "      <th>...</th>\n",
       "      <th>ResourcesNb</th>\n",
       "      <th>ResourcesMeanEntropy</th>\n",
       "      <th>ResourcesMinEntropy</th>\n",
       "      <th>ResourcesMaxEntropy</th>\n",
       "      <th>ResourcesMeanSize</th>\n",
       "      <th>ResourcesMinSize</th>\n",
       "      <th>ResourcesMaxSize</th>\n",
       "      <th>LoadConfigurationSize</th>\n",
       "      <th>VersionInformationSize</th>\n",
       "      <th>legitimate</th>\n",
       "    </tr>\n",
       "  </thead>\n",
       "  <tbody>\n",
       "    <tr>\n",
       "      <th>0</th>\n",
       "      <td>memtest.exe</td>\n",
       "      <td>631ea355665f28d4707448e442fbf5b8</td>\n",
       "      <td>332</td>\n",
       "      <td>224</td>\n",
       "      <td>258</td>\n",
       "      <td>9</td>\n",
       "      <td>0</td>\n",
       "      <td>361984</td>\n",
       "      <td>115712</td>\n",
       "      <td>0</td>\n",
       "      <td>...</td>\n",
       "      <td>4</td>\n",
       "      <td>3.262823</td>\n",
       "      <td>2.568844</td>\n",
       "      <td>3.537939</td>\n",
       "      <td>8797.000000</td>\n",
       "      <td>216</td>\n",
       "      <td>18032</td>\n",
       "      <td>0</td>\n",
       "      <td>16</td>\n",
       "      <td>1</td>\n",
       "    </tr>\n",
       "    <tr>\n",
       "      <th>1</th>\n",
       "      <td>ose.exe</td>\n",
       "      <td>9d10f99a6712e28f8acd5641e3a7ea6b</td>\n",
       "      <td>332</td>\n",
       "      <td>224</td>\n",
       "      <td>3330</td>\n",
       "      <td>9</td>\n",
       "      <td>0</td>\n",
       "      <td>130560</td>\n",
       "      <td>19968</td>\n",
       "      <td>0</td>\n",
       "      <td>...</td>\n",
       "      <td>2</td>\n",
       "      <td>4.250461</td>\n",
       "      <td>3.420744</td>\n",
       "      <td>5.080177</td>\n",
       "      <td>837.000000</td>\n",
       "      <td>518</td>\n",
       "      <td>1156</td>\n",
       "      <td>72</td>\n",
       "      <td>18</td>\n",
       "      <td>1</td>\n",
       "    </tr>\n",
       "    <tr>\n",
       "      <th>2</th>\n",
       "      <td>setup.exe</td>\n",
       "      <td>4d92f518527353c0db88a70fddcfd390</td>\n",
       "      <td>332</td>\n",
       "      <td>224</td>\n",
       "      <td>3330</td>\n",
       "      <td>9</td>\n",
       "      <td>0</td>\n",
       "      <td>517120</td>\n",
       "      <td>621568</td>\n",
       "      <td>0</td>\n",
       "      <td>...</td>\n",
       "      <td>11</td>\n",
       "      <td>4.426324</td>\n",
       "      <td>2.846449</td>\n",
       "      <td>5.271813</td>\n",
       "      <td>31102.272727</td>\n",
       "      <td>104</td>\n",
       "      <td>270376</td>\n",
       "      <td>72</td>\n",
       "      <td>18</td>\n",
       "      <td>1</td>\n",
       "    </tr>\n",
       "    <tr>\n",
       "      <th>3</th>\n",
       "      <td>DW20.EXE</td>\n",
       "      <td>a41e524f8d45f0074fd07805ff0c9b12</td>\n",
       "      <td>332</td>\n",
       "      <td>224</td>\n",
       "      <td>258</td>\n",
       "      <td>9</td>\n",
       "      <td>0</td>\n",
       "      <td>585728</td>\n",
       "      <td>369152</td>\n",
       "      <td>0</td>\n",
       "      <td>...</td>\n",
       "      <td>10</td>\n",
       "      <td>4.364291</td>\n",
       "      <td>2.669314</td>\n",
       "      <td>6.400720</td>\n",
       "      <td>1457.000000</td>\n",
       "      <td>90</td>\n",
       "      <td>4264</td>\n",
       "      <td>72</td>\n",
       "      <td>18</td>\n",
       "      <td>1</td>\n",
       "    </tr>\n",
       "    <tr>\n",
       "      <th>4</th>\n",
       "      <td>dwtrig20.exe</td>\n",
       "      <td>c87e561258f2f8650cef999bf643a731</td>\n",
       "      <td>332</td>\n",
       "      <td>224</td>\n",
       "      <td>258</td>\n",
       "      <td>9</td>\n",
       "      <td>0</td>\n",
       "      <td>294912</td>\n",
       "      <td>247296</td>\n",
       "      <td>0</td>\n",
       "      <td>...</td>\n",
       "      <td>2</td>\n",
       "      <td>4.306100</td>\n",
       "      <td>3.421598</td>\n",
       "      <td>5.190603</td>\n",
       "      <td>1074.500000</td>\n",
       "      <td>849</td>\n",
       "      <td>1300</td>\n",
       "      <td>72</td>\n",
       "      <td>18</td>\n",
       "      <td>1</td>\n",
       "    </tr>\n",
       "  </tbody>\n",
       "</table>\n",
       "<p>5 rows × 57 columns</p>\n",
       "</div>"
      ],
      "text/plain": [
       "           Name                               md5  Machine  \\\n",
       "0   memtest.exe  631ea355665f28d4707448e442fbf5b8      332   \n",
       "1       ose.exe  9d10f99a6712e28f8acd5641e3a7ea6b      332   \n",
       "2     setup.exe  4d92f518527353c0db88a70fddcfd390      332   \n",
       "3      DW20.EXE  a41e524f8d45f0074fd07805ff0c9b12      332   \n",
       "4  dwtrig20.exe  c87e561258f2f8650cef999bf643a731      332   \n",
       "\n",
       "   SizeOfOptionalHeader  Characteristics  MajorLinkerVersion  \\\n",
       "0                   224              258                   9   \n",
       "1                   224             3330                   9   \n",
       "2                   224             3330                   9   \n",
       "3                   224              258                   9   \n",
       "4                   224              258                   9   \n",
       "\n",
       "   MinorLinkerVersion  SizeOfCode  SizeOfInitializedData  \\\n",
       "0                   0      361984                 115712   \n",
       "1                   0      130560                  19968   \n",
       "2                   0      517120                 621568   \n",
       "3                   0      585728                 369152   \n",
       "4                   0      294912                 247296   \n",
       "\n",
       "   SizeOfUninitializedData  ...  ResourcesNb  ResourcesMeanEntropy  \\\n",
       "0                        0  ...            4              3.262823   \n",
       "1                        0  ...            2              4.250461   \n",
       "2                        0  ...           11              4.426324   \n",
       "3                        0  ...           10              4.364291   \n",
       "4                        0  ...            2              4.306100   \n",
       "\n",
       "   ResourcesMinEntropy  ResourcesMaxEntropy  ResourcesMeanSize  \\\n",
       "0             2.568844             3.537939        8797.000000   \n",
       "1             3.420744             5.080177         837.000000   \n",
       "2             2.846449             5.271813       31102.272727   \n",
       "3             2.669314             6.400720        1457.000000   \n",
       "4             3.421598             5.190603        1074.500000   \n",
       "\n",
       "   ResourcesMinSize  ResourcesMaxSize  LoadConfigurationSize  \\\n",
       "0               216             18032                      0   \n",
       "1               518              1156                     72   \n",
       "2               104            270376                     72   \n",
       "3                90              4264                     72   \n",
       "4               849              1300                     72   \n",
       "\n",
       "   VersionInformationSize  legitimate  \n",
       "0                      16           1  \n",
       "1                      18           1  \n",
       "2                      18           1  \n",
       "3                      18           1  \n",
       "4                      18           1  \n",
       "\n",
       "[5 rows x 57 columns]"
      ]
     },
     "execution_count": 3,
     "metadata": {},
     "output_type": "execute_result"
    }
   ],
   "source": [
    "MalwareDataset.head()"
   ]
  },
  {
   "cell_type": "code",
   "execution_count": 4,
   "id": "114dcc7d",
   "metadata": {},
   "outputs": [
    {
     "data": {
      "text/plain": [
       "(138047, 57)"
      ]
     },
     "execution_count": 4,
     "metadata": {},
     "output_type": "execute_result"
    }
   ],
   "source": [
    "MalwareDataset.shape"
   ]
  },
  {
   "cell_type": "code",
   "execution_count": 5,
   "id": "09168076",
   "metadata": {},
   "outputs": [
    {
     "data": {
      "text/html": [
       "<div>\n",
       "<style scoped>\n",
       "    .dataframe tbody tr th:only-of-type {\n",
       "        vertical-align: middle;\n",
       "    }\n",
       "\n",
       "    .dataframe tbody tr th {\n",
       "        vertical-align: top;\n",
       "    }\n",
       "\n",
       "    .dataframe thead th {\n",
       "        text-align: right;\n",
       "    }\n",
       "</style>\n",
       "<table border=\"1\" class=\"dataframe\">\n",
       "  <thead>\n",
       "    <tr style=\"text-align: right;\">\n",
       "      <th></th>\n",
       "      <th>Machine</th>\n",
       "      <th>SizeOfOptionalHeader</th>\n",
       "      <th>Characteristics</th>\n",
       "      <th>MajorLinkerVersion</th>\n",
       "      <th>MinorLinkerVersion</th>\n",
       "      <th>SizeOfCode</th>\n",
       "      <th>SizeOfInitializedData</th>\n",
       "      <th>SizeOfUninitializedData</th>\n",
       "      <th>AddressOfEntryPoint</th>\n",
       "      <th>BaseOfCode</th>\n",
       "      <th>...</th>\n",
       "      <th>ResourcesNb</th>\n",
       "      <th>ResourcesMeanEntropy</th>\n",
       "      <th>ResourcesMinEntropy</th>\n",
       "      <th>ResourcesMaxEntropy</th>\n",
       "      <th>ResourcesMeanSize</th>\n",
       "      <th>ResourcesMinSize</th>\n",
       "      <th>ResourcesMaxSize</th>\n",
       "      <th>LoadConfigurationSize</th>\n",
       "      <th>VersionInformationSize</th>\n",
       "      <th>legitimate</th>\n",
       "    </tr>\n",
       "  </thead>\n",
       "  <tbody>\n",
       "    <tr>\n",
       "      <th>count</th>\n",
       "      <td>138047.000000</td>\n",
       "      <td>138047.000000</td>\n",
       "      <td>138047.000000</td>\n",
       "      <td>138047.000000</td>\n",
       "      <td>138047.000000</td>\n",
       "      <td>1.380470e+05</td>\n",
       "      <td>1.380470e+05</td>\n",
       "      <td>1.380470e+05</td>\n",
       "      <td>1.380470e+05</td>\n",
       "      <td>1.380470e+05</td>\n",
       "      <td>...</td>\n",
       "      <td>138047.000000</td>\n",
       "      <td>138047.000000</td>\n",
       "      <td>138047.000000</td>\n",
       "      <td>138047.000000</td>\n",
       "      <td>1.380470e+05</td>\n",
       "      <td>1.380470e+05</td>\n",
       "      <td>1.380470e+05</td>\n",
       "      <td>1.380470e+05</td>\n",
       "      <td>138047.000000</td>\n",
       "      <td>138047.000000</td>\n",
       "    </tr>\n",
       "    <tr>\n",
       "      <th>mean</th>\n",
       "      <td>4259.069274</td>\n",
       "      <td>225.845632</td>\n",
       "      <td>4444.145994</td>\n",
       "      <td>8.619774</td>\n",
       "      <td>3.819286</td>\n",
       "      <td>2.425956e+05</td>\n",
       "      <td>4.504867e+05</td>\n",
       "      <td>1.009525e+05</td>\n",
       "      <td>1.719561e+05</td>\n",
       "      <td>5.779845e+04</td>\n",
       "      <td>...</td>\n",
       "      <td>22.050700</td>\n",
       "      <td>4.000127</td>\n",
       "      <td>2.434541</td>\n",
       "      <td>5.521610</td>\n",
       "      <td>5.545093e+04</td>\n",
       "      <td>1.818082e+04</td>\n",
       "      <td>2.465903e+05</td>\n",
       "      <td>4.656750e+05</td>\n",
       "      <td>12.363115</td>\n",
       "      <td>0.299340</td>\n",
       "    </tr>\n",
       "    <tr>\n",
       "      <th>std</th>\n",
       "      <td>10880.347245</td>\n",
       "      <td>5.121399</td>\n",
       "      <td>8186.782524</td>\n",
       "      <td>4.088757</td>\n",
       "      <td>11.862675</td>\n",
       "      <td>5.754485e+06</td>\n",
       "      <td>2.101599e+07</td>\n",
       "      <td>1.635288e+07</td>\n",
       "      <td>3.430553e+06</td>\n",
       "      <td>5.527658e+06</td>\n",
       "      <td>...</td>\n",
       "      <td>136.494244</td>\n",
       "      <td>1.112981</td>\n",
       "      <td>0.815577</td>\n",
       "      <td>1.597403</td>\n",
       "      <td>7.799163e+06</td>\n",
       "      <td>6.502369e+06</td>\n",
       "      <td>2.124860e+07</td>\n",
       "      <td>2.608987e+07</td>\n",
       "      <td>6.798878</td>\n",
       "      <td>0.457971</td>\n",
       "    </tr>\n",
       "    <tr>\n",
       "      <th>min</th>\n",
       "      <td>332.000000</td>\n",
       "      <td>224.000000</td>\n",
       "      <td>2.000000</td>\n",
       "      <td>0.000000</td>\n",
       "      <td>0.000000</td>\n",
       "      <td>0.000000e+00</td>\n",
       "      <td>0.000000e+00</td>\n",
       "      <td>0.000000e+00</td>\n",
       "      <td>0.000000e+00</td>\n",
       "      <td>0.000000e+00</td>\n",
       "      <td>...</td>\n",
       "      <td>0.000000</td>\n",
       "      <td>0.000000</td>\n",
       "      <td>0.000000</td>\n",
       "      <td>0.000000</td>\n",
       "      <td>0.000000e+00</td>\n",
       "      <td>0.000000e+00</td>\n",
       "      <td>0.000000e+00</td>\n",
       "      <td>0.000000e+00</td>\n",
       "      <td>0.000000</td>\n",
       "      <td>0.000000</td>\n",
       "    </tr>\n",
       "    <tr>\n",
       "      <th>25%</th>\n",
       "      <td>332.000000</td>\n",
       "      <td>224.000000</td>\n",
       "      <td>258.000000</td>\n",
       "      <td>8.000000</td>\n",
       "      <td>0.000000</td>\n",
       "      <td>3.020800e+04</td>\n",
       "      <td>2.457600e+04</td>\n",
       "      <td>0.000000e+00</td>\n",
       "      <td>1.272100e+04</td>\n",
       "      <td>4.096000e+03</td>\n",
       "      <td>...</td>\n",
       "      <td>5.000000</td>\n",
       "      <td>3.458505</td>\n",
       "      <td>2.178748</td>\n",
       "      <td>4.828706</td>\n",
       "      <td>9.560000e+02</td>\n",
       "      <td>4.800000e+01</td>\n",
       "      <td>2.216000e+03</td>\n",
       "      <td>0.000000e+00</td>\n",
       "      <td>13.000000</td>\n",
       "      <td>0.000000</td>\n",
       "    </tr>\n",
       "    <tr>\n",
       "      <th>50%</th>\n",
       "      <td>332.000000</td>\n",
       "      <td>224.000000</td>\n",
       "      <td>258.000000</td>\n",
       "      <td>9.000000</td>\n",
       "      <td>0.000000</td>\n",
       "      <td>1.136640e+05</td>\n",
       "      <td>2.631680e+05</td>\n",
       "      <td>0.000000e+00</td>\n",
       "      <td>5.288300e+04</td>\n",
       "      <td>4.096000e+03</td>\n",
       "      <td>...</td>\n",
       "      <td>6.000000</td>\n",
       "      <td>3.729824</td>\n",
       "      <td>2.458492</td>\n",
       "      <td>5.317552</td>\n",
       "      <td>2.708154e+03</td>\n",
       "      <td>4.800000e+01</td>\n",
       "      <td>9.640000e+03</td>\n",
       "      <td>7.200000e+01</td>\n",
       "      <td>15.000000</td>\n",
       "      <td>0.000000</td>\n",
       "    </tr>\n",
       "    <tr>\n",
       "      <th>75%</th>\n",
       "      <td>332.000000</td>\n",
       "      <td>224.000000</td>\n",
       "      <td>8226.000000</td>\n",
       "      <td>10.000000</td>\n",
       "      <td>0.000000</td>\n",
       "      <td>1.203200e+05</td>\n",
       "      <td>3.850240e+05</td>\n",
       "      <td>0.000000e+00</td>\n",
       "      <td>6.157800e+04</td>\n",
       "      <td>4.096000e+03</td>\n",
       "      <td>...</td>\n",
       "      <td>13.000000</td>\n",
       "      <td>4.233051</td>\n",
       "      <td>2.696833</td>\n",
       "      <td>6.502239</td>\n",
       "      <td>6.558429e+03</td>\n",
       "      <td>1.320000e+02</td>\n",
       "      <td>2.378000e+04</td>\n",
       "      <td>7.200000e+01</td>\n",
       "      <td>16.000000</td>\n",
       "      <td>1.000000</td>\n",
       "    </tr>\n",
       "    <tr>\n",
       "      <th>max</th>\n",
       "      <td>34404.000000</td>\n",
       "      <td>352.000000</td>\n",
       "      <td>49551.000000</td>\n",
       "      <td>255.000000</td>\n",
       "      <td>255.000000</td>\n",
       "      <td>1.818587e+09</td>\n",
       "      <td>4.294966e+09</td>\n",
       "      <td>4.294941e+09</td>\n",
       "      <td>1.074484e+09</td>\n",
       "      <td>2.028711e+09</td>\n",
       "      <td>...</td>\n",
       "      <td>7694.000000</td>\n",
       "      <td>7.999723</td>\n",
       "      <td>7.999723</td>\n",
       "      <td>8.000000</td>\n",
       "      <td>2.415919e+09</td>\n",
       "      <td>2.415919e+09</td>\n",
       "      <td>4.294903e+09</td>\n",
       "      <td>4.294967e+09</td>\n",
       "      <td>26.000000</td>\n",
       "      <td>1.000000</td>\n",
       "    </tr>\n",
       "  </tbody>\n",
       "</table>\n",
       "<p>8 rows × 55 columns</p>\n",
       "</div>"
      ],
      "text/plain": [
       "             Machine  SizeOfOptionalHeader  Characteristics  \\\n",
       "count  138047.000000         138047.000000    138047.000000   \n",
       "mean     4259.069274            225.845632      4444.145994   \n",
       "std     10880.347245              5.121399      8186.782524   \n",
       "min       332.000000            224.000000         2.000000   \n",
       "25%       332.000000            224.000000       258.000000   \n",
       "50%       332.000000            224.000000       258.000000   \n",
       "75%       332.000000            224.000000      8226.000000   \n",
       "max     34404.000000            352.000000     49551.000000   \n",
       "\n",
       "       MajorLinkerVersion  MinorLinkerVersion    SizeOfCode  \\\n",
       "count       138047.000000       138047.000000  1.380470e+05   \n",
       "mean             8.619774            3.819286  2.425956e+05   \n",
       "std              4.088757           11.862675  5.754485e+06   \n",
       "min              0.000000            0.000000  0.000000e+00   \n",
       "25%              8.000000            0.000000  3.020800e+04   \n",
       "50%              9.000000            0.000000  1.136640e+05   \n",
       "75%             10.000000            0.000000  1.203200e+05   \n",
       "max            255.000000          255.000000  1.818587e+09   \n",
       "\n",
       "       SizeOfInitializedData  SizeOfUninitializedData  AddressOfEntryPoint  \\\n",
       "count           1.380470e+05             1.380470e+05         1.380470e+05   \n",
       "mean            4.504867e+05             1.009525e+05         1.719561e+05   \n",
       "std             2.101599e+07             1.635288e+07         3.430553e+06   \n",
       "min             0.000000e+00             0.000000e+00         0.000000e+00   \n",
       "25%             2.457600e+04             0.000000e+00         1.272100e+04   \n",
       "50%             2.631680e+05             0.000000e+00         5.288300e+04   \n",
       "75%             3.850240e+05             0.000000e+00         6.157800e+04   \n",
       "max             4.294966e+09             4.294941e+09         1.074484e+09   \n",
       "\n",
       "         BaseOfCode  ...    ResourcesNb  ResourcesMeanEntropy  \\\n",
       "count  1.380470e+05  ...  138047.000000         138047.000000   \n",
       "mean   5.779845e+04  ...      22.050700              4.000127   \n",
       "std    5.527658e+06  ...     136.494244              1.112981   \n",
       "min    0.000000e+00  ...       0.000000              0.000000   \n",
       "25%    4.096000e+03  ...       5.000000              3.458505   \n",
       "50%    4.096000e+03  ...       6.000000              3.729824   \n",
       "75%    4.096000e+03  ...      13.000000              4.233051   \n",
       "max    2.028711e+09  ...    7694.000000              7.999723   \n",
       "\n",
       "       ResourcesMinEntropy  ResourcesMaxEntropy  ResourcesMeanSize  \\\n",
       "count        138047.000000        138047.000000       1.380470e+05   \n",
       "mean              2.434541             5.521610       5.545093e+04   \n",
       "std               0.815577             1.597403       7.799163e+06   \n",
       "min               0.000000             0.000000       0.000000e+00   \n",
       "25%               2.178748             4.828706       9.560000e+02   \n",
       "50%               2.458492             5.317552       2.708154e+03   \n",
       "75%               2.696833             6.502239       6.558429e+03   \n",
       "max               7.999723             8.000000       2.415919e+09   \n",
       "\n",
       "       ResourcesMinSize  ResourcesMaxSize  LoadConfigurationSize  \\\n",
       "count      1.380470e+05      1.380470e+05           1.380470e+05   \n",
       "mean       1.818082e+04      2.465903e+05           4.656750e+05   \n",
       "std        6.502369e+06      2.124860e+07           2.608987e+07   \n",
       "min        0.000000e+00      0.000000e+00           0.000000e+00   \n",
       "25%        4.800000e+01      2.216000e+03           0.000000e+00   \n",
       "50%        4.800000e+01      9.640000e+03           7.200000e+01   \n",
       "75%        1.320000e+02      2.378000e+04           7.200000e+01   \n",
       "max        2.415919e+09      4.294903e+09           4.294967e+09   \n",
       "\n",
       "       VersionInformationSize     legitimate  \n",
       "count           138047.000000  138047.000000  \n",
       "mean                12.363115       0.299340  \n",
       "std                  6.798878       0.457971  \n",
       "min                  0.000000       0.000000  \n",
       "25%                 13.000000       0.000000  \n",
       "50%                 15.000000       0.000000  \n",
       "75%                 16.000000       1.000000  \n",
       "max                 26.000000       1.000000  \n",
       "\n",
       "[8 rows x 55 columns]"
      ]
     },
     "execution_count": 5,
     "metadata": {},
     "output_type": "execute_result"
    }
   ],
   "source": [
    "MalwareDataset.describe()"
   ]
  },
  {
   "cell_type": "code",
   "execution_count": 6,
   "id": "fcc4719a",
   "metadata": {},
   "outputs": [],
   "source": [
    "Legit = MalwareDataset[0:41323].drop(['legitimate'], axis=1)\n",
    "Malware = MalwareDataset[41323::].drop(['legitimate'], axis=1)"
   ]
  },
  {
   "cell_type": "code",
   "execution_count": 7,
   "id": "65fa8b9c",
   "metadata": {},
   "outputs": [
    {
     "name": "stdout",
     "output_type": "stream",
     "text": [
      "Number of important features = 56\n"
     ]
    }
   ],
   "source": [
    "print('Number of important features = %i' % Legit.shape[1])"
   ]
  },
  {
   "cell_type": "code",
   "execution_count": 8,
   "id": "1cf2d5c3",
   "metadata": {},
   "outputs": [
    {
     "data": {
      "image/png": "[encoded data removed]",
      "text/plain": [
       "<Figure size 432x288 with 1 Axes>"
      ]
     },
     "metadata": {
      "needs_background": "light"
     },
     "output_type": "display_data"
    }
   ],
   "source": [
    "fig = plt.figure()\n",
    "ax = fig.add_axes([0,0,1,1])\n",
    "ax.hist(MalwareDataset['legitimate'],20)\n",
    "plt.show()"
   ]
  },
  {
   "cell_type": "markdown",
   "id": "3bd55291",
   "metadata": {},
   "source": [
    "# Data Cleaning and Feature Selection"
   ]
  },
  {
   "cell_type": "code",
   "execution_count": 9,
   "id": "f0fec234",
   "metadata": {},
   "outputs": [],
   "source": [
    "import sklearn\n",
    "from sklearn.metrics import confusion_matrix\n",
    "from sklearn.feature_selection import SelectFromModel\n",
    "from sklearn.datasets import make_classification\n",
    "from sklearn.ensemble import RandomForestClassifier,ExtraTreesClassifier,GradientBoostingClassifier,AdaBoostClassifier\n",
    "from sklearn.tree import DecisionTreeClassifier\n",
    "from sklearn.model_selection import train_test_split\n",
    "from sklearn.metrics import f1_score,accuracy_score,plot_confusion_matrix,auc,confusion_matrix"
   ]
  },
  {
   "cell_type": "code",
   "execution_count": 10,
   "id": "374a7813",
   "metadata": {},
   "outputs": [
    {
     "name": "stderr",
     "output_type": "stream",
     "text": [
      "/home/grhufford/miniconda3/envs/ml/lib/python3.9/site-packages/sklearn/base.py:443: UserWarning: X has feature names, but SelectFromModel was fitted without feature names\n",
      "  warnings.warn(\n"
     ]
    }
   ],
   "source": [
    "data = MalwareDataset.drop(['Name', 'md5','legitimate'], axis=1)\n",
    "target = MalwareDataset['legitimate']\n",
    "featselect = RandomForestClassifier(n_estimators=50).fit(data,target)\n",
    "model = SelectFromModel(featselect, prefit=True)\n",
    "new_data = model.transform(data)\n",
    "#new_data = pd.DataFrame(model.transform(data), columns =[\"ImageBase\",\n",
    "#    \"VersionInformationSize\",\n",
    "#    \"SizeOfStackReserve\",\n",
    "#    \"Characteristics\",\n",
    "#    \"ResourcesMinSize\",\n",
    "#    \"MajorOperatingSystemVersion\",\n",
    "#    \"MinorImageVersion\",\n",
    "#    \"DllCharacteristics\",\n",
    "#    \"ResourcesMaxSize\",\n",
    "#    \"ResourcesMinEntropy\",\n",
    "#    \"ExportNb\",\n",
    "#    \"MajorSubsystemVersion\",\n",
    "#    \"Subsystem\"])"
   ]
  },
  {
   "cell_type": "code",
   "execution_count": 11,
   "id": "d2a5225f",
   "metadata": {},
   "outputs": [
    {
     "name": "stdout",
     "output_type": "stream",
     "text": [
      "(138047, 54)\n"
     ]
    }
   ],
   "source": [
    "print(data.shape)"
   ]
  },
  {
   "cell_type": "code",
   "execution_count": 12,
   "id": "1331282c",
   "metadata": {},
   "outputs": [
    {
     "name": "stdout",
     "output_type": "stream",
     "text": [
      "(138047, 12)\n"
     ]
    }
   ],
   "source": [
    "print(new_data.shape)"
   ]
  },
  {
   "cell_type": "code",
   "execution_count": 13,
   "id": "52224143",
   "metadata": {},
   "outputs": [
    {
     "name": "stdout",
     "output_type": "stream",
     "text": [
      "ImageBase\n",
      "SizeOfStackReserve\n",
      "Characteristics\n",
      "VersionInformationSize\n",
      "ResourcesMinSize\n",
      "ResourcesNb\n",
      "ResourcesMinEntropy\n",
      "MinorImageVersion\n",
      "MajorOperatingSystemVersion\n",
      "ExportNb\n",
      "BaseOfData\n",
      "SectionsMaxEntropy\n"
     ]
    }
   ],
   "source": [
    "features = new_data.shape[1]\n",
    "index = np.argsort(RandomForestClassifier(n_estimators=50).fit(data,target).feature_importances_) [::-1][:features]\n",
    "for feat in range(features):\n",
    "    print(MalwareDataset.columns[2+index[feat]])"
   ]
  },
  {
   "cell_type": "code",
   "execution_count": 14,
   "id": "f34dc79f-9594-4864-a3f0-1ca354467350",
   "metadata": {},
   "outputs": [
    {
     "name": "stdout",
     "output_type": "stream",
     "text": [
      " 1) ImageBase                      0.172588\n",
      " 2) VersionInformationSize         0.119975\n",
      " 3) SizeOfStackReserve             0.119122\n",
      " 4) MinorImageVersion              0.065798\n",
      " 5) ExportNb                       0.050138\n",
      " 6) ResourcesMinSize               0.046383\n",
      " 7) Subsystem                      0.045862\n",
      " 8) MajorSubsystemVersion          0.037865\n",
      " 9) ResourcesNb                    0.033194\n",
      "10) MajorOperatingSystemVersion    0.029299\n",
      "11) SectionsMaxEntropy             0.025921\n",
      "12) ResourcesMaxEntropy            0.024979\n",
      "13) Characteristics                0.021894\n"
     ]
    }
   ],
   "source": [
    "from sklearn.ensemble import RandomForestClassifier\n",
    "\n",
    "X_train, X_test, y_train, y_test = \\\n",
    "            train_test_split(data, target, test_size=0.2,\n",
    "                             random_state=1)\n",
    "    \n",
    "feat_labels = data.columns[0:]\n",
    "\n",
    "forest = RandomForestClassifier(n_estimators=50,\n",
    "                                random_state=1)\n",
    "\n",
    "forest.fit(X_train, y_train)\n",
    "importances = forest.feature_importances_\n",
    "\n",
    "indices = np.argsort(importances)[::-1]\n",
    "\n",
    "# print all the features and their importances in highest to lowest importance\n",
    "for f in range(13):\n",
    "    print(\"%2d) %-*s %f\" % (f + 1, 30, \n",
    "                            feat_labels[indices[f]], \n",
    "                            importances[indices[f]]))\n",
    "\n"
   ]
  },
  {
   "cell_type": "markdown",
   "id": "98ce7a8c",
   "metadata": {},
   "source": [
    "# Running Classifiers"
   ]
  },
  {
   "cell_type": "markdown",
   "id": "a7f57e2b",
   "metadata": {},
   "source": [
    "  # Random Forest"
   ]
  },
  {
   "cell_type": "code",
   "execution_count": 15,
   "id": "8b831c43",
   "metadata": {},
   "outputs": [],
   "source": [
    "#train/test split for old data\n",
    "oldX_train, oldX_test, oldy_train, oldy_test = train_test_split(data,target, test_size=0.2, random_state=42)"
   ]
  },
  {
   "cell_type": "code",
   "execution_count": 16,
   "id": "a3558ce4",
   "metadata": {},
   "outputs": [],
   "source": [
    "oldrf = RandomForestClassifier(n_estimators=50)\n",
    "oldrf.fit(oldX_train, oldy_train)\n",
    "score_oldrf = oldrf.score(oldX_test, oldy_test)"
   ]
  },
  {
   "cell_type": "code",
   "execution_count": 17,
   "id": "2432e4b5",
   "metadata": {},
   "outputs": [
    {
     "name": "stdout",
     "output_type": "stream",
     "text": [
      "99.51829047446577\n"
     ]
    }
   ],
   "source": [
    "print(score_oldrf * 100)"
   ]
  },
  {
   "cell_type": "code",
   "execution_count": 18,
   "id": "c37a68b3",
   "metadata": {},
   "outputs": [],
   "source": [
    "# train/test split for new data\n",
    "X_train, X_test, y_train, y_test = train_test_split(new_data,target, test_size=0.2, random_state=42)"
   ]
  },
  {
   "cell_type": "code",
   "execution_count": 19,
   "id": "6aa1bf62",
   "metadata": {},
   "outputs": [],
   "source": [
    "rf = RandomForestClassifier(n_estimators=50)\n",
    "rf.fit(X_train, y_train)\n",
    "score_rf = rf.score(X_test, y_test)"
   ]
  },
  {
   "cell_type": "code",
   "execution_count": 20,
   "id": "57bf3653",
   "metadata": {},
   "outputs": [
    {
     "name": "stdout",
     "output_type": "stream",
     "text": [
      "99.3516841724013\n"
     ]
    }
   ],
   "source": [
    "print(score_rf * 100)"
   ]
  },
  {
   "cell_type": "markdown",
   "id": "748121f5",
   "metadata": {},
   "source": [
    "# Gradient-boosting"
   ]
  },
  {
   "cell_type": "code",
   "execution_count": 21,
   "id": "a0804a79",
   "metadata": {},
   "outputs": [],
   "source": [
    "oldgb = sklearn.ensemble.GradientBoostingClassifier(n_estimators=50)\n",
    "oldgb.fit(oldX_train, oldy_train)\n",
    "score_oldgb = oldgb.score(oldX_test, oldy_test)"
   ]
  },
  {
   "cell_type": "code",
   "execution_count": 22,
   "id": "7cfd3524",
   "metadata": {},
   "outputs": [
    {
     "name": "stdout",
     "output_type": "stream",
     "text": [
      "98.99674031148135\n"
     ]
    }
   ],
   "source": [
    "print(score_oldgb * 100)"
   ]
  },
  {
   "cell_type": "code",
   "execution_count": 23,
   "id": "13dd8a3e",
   "metadata": {},
   "outputs": [],
   "source": [
    "gb = sklearn.ensemble.GradientBoostingClassifier(n_estimators=50)\n",
    "gb.fit(X_train, y_train)\n",
    "score_gb = gb.score(X_test, y_test)"
   ]
  },
  {
   "cell_type": "code",
   "execution_count": 24,
   "id": "a8b67381",
   "metadata": {},
   "outputs": [
    {
     "name": "stdout",
     "output_type": "stream",
     "text": [
      "98.81926838102137\n"
     ]
    }
   ],
   "source": [
    "print(score_gb * 100)"
   ]
  },
  {
   "cell_type": "markdown",
   "id": "a891f22b",
   "metadata": {},
   "source": [
    "# AdaBoost"
   ]
  },
  {
   "cell_type": "code",
   "execution_count": 25,
   "id": "6282f2ad",
   "metadata": {},
   "outputs": [],
   "source": [
    "oldadb = AdaBoostClassifier(n_estimators=50)\n",
    "oldadb.fit(oldX_train, oldy_train)\n",
    "score_oldadb = oldadb.score(oldX_test, oldy_test)"
   ]
  },
  {
   "cell_type": "code",
   "execution_count": 26,
   "id": "172bba67",
   "metadata": {},
   "outputs": [
    {
     "name": "stdout",
     "output_type": "stream",
     "text": [
      "98.74320898225281\n"
     ]
    }
   ],
   "source": [
    "print(score_oldadb * 100)"
   ]
  },
  {
   "cell_type": "code",
   "execution_count": 27,
   "id": "50ccb522",
   "metadata": {},
   "outputs": [],
   "source": [
    "adb = AdaBoostClassifier(n_estimators=50)\n",
    "adb.fit(X_train, y_train)\n",
    "score_adb = adb.score(X_test, y_test)"
   ]
  },
  {
   "cell_type": "code",
   "execution_count": 28,
   "id": "b625c0dc",
   "metadata": {},
   "outputs": [
    {
     "name": "stdout",
     "output_type": "stream",
     "text": [
      "98.37739949293734\n"
     ]
    }
   ],
   "source": [
    "print(score_adb * 100)"
   ]
  },
  {
   "cell_type": "markdown",
   "id": "e1e85a3e",
   "metadata": {},
   "source": [
    "# Confusion Matrix - Old/New Data"
   ]
  },
  {
   "cell_type": "code",
   "execution_count": 29,
   "id": "8ffbd1cd",
   "metadata": {},
   "outputs": [
    {
     "name": "stdout",
     "output_type": "stream",
     "text": [
      "False postive rate : 0.550649 %\n",
      "False negative rate : 0.873206 %\n"
     ]
    }
   ],
   "source": [
    "result_rf = rf.predict(X_test)\n",
    "CM = confusion_matrix(y_test, result_rf)\n",
    "print(\"False postive rate : %f %%\" % ((CM[0][1] / float(sum(CM[0])))*100))\n",
    "print(\"False negative rate : %f %%\" % ((CM[1][0] / float(sum(CM[1])))*100))"
   ]
  },
  {
   "cell_type": "code",
   "execution_count": 30,
   "id": "ce5ce7e2",
   "metadata": {},
   "outputs": [
    {
     "name": "stdout",
     "output_type": "stream",
     "text": [
      "False postive rate : 0.389610 %\n",
      "False negative rate : 0.693780 %\n"
     ]
    }
   ],
   "source": [
    "result_oldrf = oldrf.predict(oldX_test)\n",
    "CM = confusion_matrix(y_test, result_oldrf)\n",
    "print(\"False postive rate : %f %%\" % ((CM[0][1] / float(sum(CM[0])))*100))\n",
    "print(\"False negative rate : %f %%\" % ((CM[1][0] / float(sum(CM[1])))*100))"
   ]
  },
  {
   "cell_type": "code",
   "execution_count": 31,
   "id": "5bfc8363",
   "metadata": {},
   "outputs": [
    {
     "name": "stdout",
     "output_type": "stream",
     "text": [
      "False postive rate : 0.862338 %\n",
      "False negative rate : 1.913876 %\n"
     ]
    }
   ],
   "source": [
    "result_gb = gb.predict(X_test)\n",
    "CM = confusion_matrix(y_test, result_gb)\n",
    "print(\"False postive rate : %f %%\" % ((CM[0][1] / float(sum(CM[0])))*100))\n",
    "print(\"False negative rate : %f %%\" % ((CM[1][0] / float(sum(CM[1])))*100))"
   ]
  },
  {
   "cell_type": "code",
   "execution_count": 32,
   "id": "1605ad7c",
   "metadata": {},
   "outputs": [
    {
     "name": "stdout",
     "output_type": "stream",
     "text": [
      "False postive rate : 0.753247 %\n",
      "False negative rate : 1.578947 %\n"
     ]
    }
   ],
   "source": [
    "result_oldgb = oldgb.predict(oldX_test)\n",
    "CM = confusion_matrix(y_test, result_oldgb)\n",
    "print(\"False postive rate : %f %%\" % ((CM[0][1] / float(sum(CM[0])))*100))\n",
    "print(\"False negative rate : %f %%\" % ((CM[1][0] / float(sum(CM[1])))*100))"
   ]
  },
  {
   "cell_type": "code",
   "execution_count": 33,
   "id": "a787d7d1",
   "metadata": {},
   "outputs": [
    {
     "name": "stdout",
     "output_type": "stream",
     "text": [
      "False postive rate : 0.877922 %\n",
      "False negative rate : 3.337321 %\n"
     ]
    }
   ],
   "source": [
    "result_adb = adb.predict(X_test)\n",
    "CM = confusion_matrix(y_test, result_adb)\n",
    "print(\"False postive rate : %f %%\" % ((CM[0][1] / float(sum(CM[0])))*100))\n",
    "print(\"False negative rate : %f %%\" % ((CM[1][0] / float(sum(CM[1])))*100))"
   ]
  },
  {
   "cell_type": "code",
   "execution_count": 34,
   "id": "429b826a",
   "metadata": {},
   "outputs": [
    {
     "name": "stdout",
     "output_type": "stream",
     "text": [
      "False postive rate : 0.898701 %\n",
      "False negative rate : 2.081340 %\n"
     ]
    }
   ],
   "source": [
    "result_oldadb = oldadb.predict(oldX_test)\n",
    "CM = confusion_matrix(oldy_test, result_oldadb)\n",
    "print(\"False postive rate : %f %%\" % ((CM[0][1] / float(sum(CM[0])))*100))\n",
    "print(\"False negative rate : %f %%\" % ((CM[1][0] / float(sum(CM[1])))*100))"
   ]
  },
  {
   "cell_type": "markdown",
   "id": "741ed1e9-0a42-4f01-b880-0c733f39a061",
   "metadata": {},
   "source": [
    "# XGBoost Classifier"
   ]
  },
  {
   "cell_type": "code",
   "execution_count": 35,
   "id": "90399cd0-c792-43ce-b462-c657d8987ca3",
   "metadata": {},
   "outputs": [],
   "source": [
    "#pip install xgboost #use if not already installed"
   ]
  },
  {
   "cell_type": "code",
   "execution_count": 36,
   "id": "d9256428-df56-437a-a842-933f4c1027e2",
   "metadata": {},
   "outputs": [
    {
     "name": "stdout",
     "output_type": "stream",
     "text": [
      "[10:38:16] WARNING: ../src/learner.cc:1115: Starting in XGBoost 1.3.0, the default evaluation metric used with the objective 'binary:logistic' was changed from 'error' to 'logloss'. Explicitly set eval_metric if you'd like to restore the old behavior.\n"
     ]
    }
   ],
   "source": [
    "from xgboost import XGBClassifier\n",
    "#from sklearn.model_selection import cross_val_score\n",
    "#data_dmatrix = xgb.DMatrix(data = oldX_train, label = oldy_train)\n",
    "\n",
    "oldxgb = XGBClassifier(n_estimators = 50, use_label_encoder = False)\n",
    "oldxgb.fit(oldX_train, oldy_train)\n",
    "score_oldxgb = oldxgb.score(oldX_train, oldy_train)"
   ]
  },
  {
   "cell_type": "code",
   "execution_count": 37,
   "id": "ae9ff137-e014-48a3-a845-0fab5662f85f",
   "metadata": {},
   "outputs": [
    {
     "name": "stdout",
     "output_type": "stream",
     "text": [
      "99.81799578039968\n"
     ]
    }
   ],
   "source": [
    "print(score_oldxgb * 100)"
   ]
  },
  {
   "cell_type": "code",
   "execution_count": 38,
   "id": "e80adc8f-4c6c-4639-9814-45917ed20957",
   "metadata": {},
   "outputs": [
    {
     "name": "stdout",
     "output_type": "stream",
     "text": [
      "[10:38:20] WARNING: ../src/learner.cc:1115: Starting in XGBoost 1.3.0, the default evaluation metric used with the objective 'binary:logistic' was changed from 'error' to 'logloss'. Explicitly set eval_metric if you'd like to restore the old behavior.\n"
     ]
    }
   ],
   "source": [
    "xgb = XGBClassifier(n_estimators = 50, use_label_encoder = False)\n",
    "xgb.fit(X_train, y_train)\n",
    "score_xgb = xgb.score(X_train, y_train)"
   ]
  },
  {
   "cell_type": "code",
   "execution_count": 39,
   "id": "80097505-0525-496c-ae1b-7d315dfd6702",
   "metadata": {},
   "outputs": [
    {
     "name": "stdout",
     "output_type": "stream",
     "text": [
      "99.41233463422586\n"
     ]
    }
   ],
   "source": [
    "print(score_xgb * 100)"
   ]
  },
  {
   "cell_type": "markdown",
   "id": "fd853cc7-e264-49fb-855a-10d5c65a6562",
   "metadata": {},
   "source": [
    "### XGB Confusion Matrix"
   ]
  },
  {
   "cell_type": "code",
   "execution_count": 40,
   "id": "fb69f892-de35-471e-9b2f-e52c21127544",
   "metadata": {},
   "outputs": [
    {
     "name": "stdout",
     "output_type": "stream",
     "text": [
      "False postive rate : 0.389610 %\n",
      "False negative rate : 0.765550 %\n"
     ]
    }
   ],
   "source": [
    "result_oldxgb = oldxgb.predict(oldX_test)\n",
    "CM = confusion_matrix(oldy_test, result_oldxgb)\n",
    "print(\"False postive rate : %f %%\" % ((CM[0][1] / float(sum(CM[0])))*100))\n",
    "print(\"False negative rate : %f %%\" % ((CM[1][0] / float(sum(CM[1])))*100))"
   ]
  },
  {
   "cell_type": "code",
   "execution_count": 41,
   "id": "752f1fa7-4b86-4d67-89ea-86a007ea7a25",
   "metadata": {},
   "outputs": [
    {
     "name": "stdout",
     "output_type": "stream",
     "text": [
      "False postive rate : 0.659740 %\n",
      "False negative rate : 1.100478 %\n"
     ]
    }
   ],
   "source": [
    "result_xgb = xgb.predict(X_test)\n",
    "CM = confusion_matrix(y_test, result_xgb)\n",
    "print(\"False postive rate : %f %%\" % ((CM[0][1] / float(sum(CM[0])))*100))\n",
    "print(\"False negative rate : %f %%\" % ((CM[1][0] / float(sum(CM[1])))*100))"
   ]
  },
  {
   "cell_type": "markdown",
   "id": "13db93a1-461a-4c28-ba26-369aba6f46c6",
   "metadata": {},
   "source": [
    "# Quick RF and XGB Comparison"
   ]
  },
  {
   "cell_type": "code",
   "execution_count": 42,
   "id": "a34a737f-0701-4790-9728-53ad0dfd5924",
   "metadata": {},
   "outputs": [
    {
     "name": "stdout",
     "output_type": "stream",
     "text": [
      "RF score:  99.3516841724013 %\n",
      "XGB score:  99.41233463422586 %\n",
      "\n",
      "XGB:\n",
      "False postive rate : 0.659740 %\n",
      "False negative rate : 1.100478 %\n",
      "\n",
      "RF:\n",
      "False postive rate : 0.550649 %\n",
      "False negative rate : 0.873206 %\n"
     ]
    }
   ],
   "source": [
    "print(\"RF score: \", score_rf * 100, \"%\")\n",
    "print(\"XGB score: \", score_xgb * 100, \"%\\n\")\n",
    "\n",
    "#XGB CM\n",
    "result_xgb = xgb.predict(X_test)\n",
    "CM = confusion_matrix(y_test, result_xgb)\n",
    "print(\"XGB:\\nFalse postive rate : %f %%\" % ((CM[0][1] / float(sum(CM[0])))*100))\n",
    "print(\"False negative rate : %f %%\" % ((CM[1][0] / float(sum(CM[1])))*100))\n",
    "\n",
    "#RF CM\n",
    "result_rf = rf.predict(X_test)\n",
    "CM = confusion_matrix(y_test, result_rf)\n",
    "print(\"\\nRF:\\nFalse postive rate : %f %%\" % ((CM[0][1] / float(sum(CM[0])))*100))\n",
    "print(\"False negative rate : %f %%\" % ((CM[1][0] / float(sum(CM[1])))*100))"
   ]
  },
  {
   "cell_type": "markdown",
   "id": "41276fb9-6b38-4408-b686-c183c4b44a09",
   "metadata": {},
   "source": [
    "## Looping through classifiers"
   ]
  },
  {
   "cell_type": "code",
   "execution_count": 43,
   "id": "9011dd3b-c9a6-48c7-92ef-00c60c39d487",
   "metadata": {},
   "outputs": [],
   "source": [
    "import matplotlib.pyplot as plt\n",
    "from sklearn.model_selection import StratifiedKFold\n",
    "from sklearn.preprocessing import StandardScaler\n",
    "from itertools import cycle\n",
    "from sklearn.metrics import roc_curve, auc, roc_auc_score, plot_roc_curve"
   ]
  },
  {
   "cell_type": "code",
   "execution_count": 56,
   "id": "11c81716-8ea9-4e99-b6ac-6040065807e5",
   "metadata": {},
   "outputs": [],
   "source": [
    "import seaborn as sns\n",
    "\n",
    "#sns default theme\n",
    "sns.set_theme()"
   ]
  },
  {
   "cell_type": "code",
   "execution_count": 45,
   "id": "8ca4ac99-31ac-4245-9110-ef1f80fc1e8c",
   "metadata": {},
   "outputs": [],
   "source": [
    "#Classifer loop setup\n",
    "names = [\"RF\", \"GP\", \"AB\", \"XGB\", \"DT\"] \n",
    "\n",
    "classifiers = [\n",
    "    RandomForestClassifier(n_estimators=50),\n",
    "    GradientBoostingClassifier(n_estimators=50),\n",
    "    AdaBoostClassifier(n_estimators=50),\n",
    "    XGBClassifier(n_estimators = 50, use_label_encoder = False, disable_default_eval_metric = True),\n",
    "    DecisionTreeClassifier()]\n",
    "\n",
    "mean_fpr = np.linspace(0, 1, 100)"
   ]
  },
  {
   "cell_type": "code",
   "execution_count": 46,
   "id": "1b3cf990-7717-4687-822e-250320097201",
   "metadata": {},
   "outputs": [
    {
     "name": "stdout",
     "output_type": "stream",
     "text": [
      "RF :  99.3408185440058\n",
      "XGB :  99.20680912712785\n",
      "DT :  99.02571532053604\n",
      "GP :  98.81926838102137\n",
      "AB :  98.37739949293734\n"
     ]
    }
   ],
   "source": [
    "#Classifier loop\n",
    "x = 0\n",
    "classylist = {}\n",
    "for i in classifiers:\n",
    "    classy = classifiers[x]\n",
    "    classy.fit(X_train, y_train)\n",
    "    score_classy = classy.score(X_test, y_test)\n",
    "    classylist[names[x]]= score_classy * 100\n",
    "    x += 1\n",
    "\n",
    "#sorting the classifers to add meaning to our print\n",
    "sort_classylist = sorted(classylist.items(), key=lambda x: x[1], reverse=True)\n",
    "\n",
    "for i in sort_classylist:\n",
    "    print(i[0], \": \", i[1])\n",
    "\n"
   ]
  },
  {
   "cell_type": "code",
   "execution_count": 114,
   "id": "ca4927f2-dbad-42bf-95ab-df3098d39dd2",
   "metadata": {},
   "outputs": [],
   "source": [
    "#convert list of tuples to two seperate lists\n",
    "keys, vals = map(list, zip(*sort_classylist))"
   ]
  },
  {
   "cell_type": "code",
   "execution_count": 115,
   "id": "c38629bc-919a-4779-8d7e-e0e9f7035cba",
   "metadata": {},
   "outputs": [
    {
     "data": {
      "text/plain": [
       "Text(0, 0.5, 'Accuracy %')"
      ]
     },
     "execution_count": 115,
     "metadata": {},
     "output_type": "execute_result"
    },
    {
     "data": {
      "image/png": "[encoded data removed]",
      "text/plain": [
       "<Figure size 432x288 with 1 Axes>"
      ]
     },
     "metadata": {},
     "output_type": "display_data"
    }
   ],
   "source": [
    "#plotting\n",
    "g = sns.barplot(x = keys, y = vals)\n",
    "sns.set(font_scale = 1)\n",
    "g.axes.set_title('Classifier Accuracy', fontsize = 18)\n",
    "g.set(ylim=(95, 100))\n",
    "g.set_xlabel(\"Classifier\", fontsize = 16)\n",
    "g.set_ylabel(\"Accuracy %\", fontsize = 16)"
   ]
  },
  {
   "cell_type": "code",
   "execution_count": 47,
   "id": "90cd7773-be4f-402c-823b-af57ea6f33b5",
   "metadata": {},
   "outputs": [
    {
     "name": "stdout",
     "output_type": "stream",
     "text": [
      "RF :\n",
      "False postive rate : 0.555844 %\n",
      "False negative rate : 0.897129 % \n",
      "\n",
      "GP :\n",
      "False postive rate : 0.862338 %\n",
      "False negative rate : 1.913876 % \n",
      "\n",
      "AB :\n",
      "False postive rate : 0.877922 %\n",
      "False negative rate : 3.337321 % \n",
      "\n",
      "XGB :\n",
      "False postive rate : 0.659740 %\n",
      "False negative rate : 1.100478 % \n",
      "\n",
      "DT :\n",
      "False postive rate : 0.748052 %\n",
      "False negative rate : 1.495215 % \n",
      "\n"
     ]
    }
   ],
   "source": [
    "#Confusion matrix looping\n",
    "x = 0\n",
    "for i in sort_classylist:\n",
    "    classy = classifiers[x]\n",
    "    result_class = classy.predict(X_test)\n",
    "    CM = confusion_matrix(y_test, result_class)\n",
    "    print(names[x], \":\")\n",
    "    print(\"False postive rate : %f %%\" % ((CM[0][1] / float(sum(CM[0])))*100))\n",
    "    print(\"False negative rate : %f %%\" % ((CM[1][0] / float(sum(CM[1])))*100), \"\\n\")\n",
    "    x += 1"
   ]
  },
  {
   "cell_type": "code",
   "execution_count": 48,
   "id": "c5a3cba4-1c0d-4ea3-b740-8279606f49d6",
   "metadata": {},
   "outputs": [
    {
     "name": "stderr",
     "output_type": "stream",
     "text": [
      "/home/grhufford/miniconda3/envs/ml/lib/python3.9/site-packages/sklearn/utils/deprecation.py:87: FutureWarning: Function plot_roc_curve is deprecated; Function :func:`plot_roc_curve` is deprecated in 1.0 and will be removed in 1.2. Use one of the class methods: :meth:`sklearn.metric.RocCurveDisplay.from_predictions` or :meth:`sklearn.metric.RocCurveDisplay.from_estimator`.\n",
      "  warnings.warn(msg, category=FutureWarning)\n",
      "/home/grhufford/miniconda3/envs/ml/lib/python3.9/site-packages/sklearn/utils/deprecation.py:87: FutureWarning: Function plot_roc_curve is deprecated; Function :func:`plot_roc_curve` is deprecated in 1.0 and will be removed in 1.2. Use one of the class methods: :meth:`sklearn.metric.RocCurveDisplay.from_predictions` or :meth:`sklearn.metric.RocCurveDisplay.from_estimator`.\n",
      "  warnings.warn(msg, category=FutureWarning)\n",
      "/home/grhufford/miniconda3/envs/ml/lib/python3.9/site-packages/sklearn/utils/deprecation.py:87: FutureWarning: Function plot_roc_curve is deprecated; Function :func:`plot_roc_curve` is deprecated in 1.0 and will be removed in 1.2. Use one of the class methods: :meth:`sklearn.metric.RocCurveDisplay.from_predictions` or :meth:`sklearn.metric.RocCurveDisplay.from_estimator`.\n",
      "  warnings.warn(msg, category=FutureWarning)\n",
      "/home/grhufford/miniconda3/envs/ml/lib/python3.9/site-packages/sklearn/utils/deprecation.py:87: FutureWarning: Function plot_roc_curve is deprecated; Function :func:`plot_roc_curve` is deprecated in 1.0 and will be removed in 1.2. Use one of the class methods: :meth:`sklearn.metric.RocCurveDisplay.from_predictions` or :meth:`sklearn.metric.RocCurveDisplay.from_estimator`.\n",
      "  warnings.warn(msg, category=FutureWarning)\n",
      "/home/grhufford/miniconda3/envs/ml/lib/python3.9/site-packages/sklearn/utils/deprecation.py:87: FutureWarning: Function plot_roc_curve is deprecated; Function :func:`plot_roc_curve` is deprecated in 1.0 and will be removed in 1.2. Use one of the class methods: :meth:`sklearn.metric.RocCurveDisplay.from_predictions` or :meth:`sklearn.metric.RocCurveDisplay.from_estimator`.\n",
      "  warnings.warn(msg, category=FutureWarning)\n"
     ]
    },
    {
     "data": {
      "image/png": "[encoded data removed]",
      "text/plain": [
       "<Figure size 720x432 with 1 Axes>"
      ]
     },
     "metadata": {
      "needs_background": "light"
     },
     "output_type": "display_data"
    }
   ],
   "source": [
    "#ROC Curve - needs modifying\n",
    "fig, ax = plt.subplots(figsize=(10, 6))\n",
    "lw=2\n",
    "\n",
    "X_train, X_test, y_train, y_test = train_test_split(new_data, target, test_size=.2,\n",
    "                                                random_state=0)\n",
    "for name, classifier in zip(names, classifiers):\n",
    "    classifier.fit(X_train, y_train)\n",
    "    plot_roc_curve(classifier, X_test, y_test,\n",
    "                         name=f'{name}',\n",
    "                         alpha=0.3, lw=1, ax=ax)\n",
    "\n",
    "ax.set(xlim=[-0.05, 1.05], ylim=[-0.05, 1.05], title=\"ROC Curve Example\")\n",
    "ax.legend(loc=\"lower right\")\n",
    "plt.title(\"ROC Curves of Classifiers\")\n",
    "plt.xlabel('False Positive Rate')\n",
    "plt.ylabel('True Positive Rate')\n",
    "plt.legend(loc=\"lower right\")\n",
    "plt.show()"
   ]
  },
  {
   "cell_type": "markdown",
   "id": "e339ac57-fc18-42c7-b6a5-d3508ce3b5ef",
   "metadata": {},
   "source": [
    "# Visualization"
   ]
  },
  {
   "cell_type": "code",
   "execution_count": null,
   "id": "bb0f4b85-009c-4144-a13e-972d8d54dbca",
   "metadata": {},
   "outputs": [],
   "source": []
  },
  {
   "cell_type": "code",
   "execution_count": null,
   "id": "01cdb85b-ba81-4da7-b6fb-e1389145656a",
   "metadata": {},
   "outputs": [],
   "source": []
  }
 ],
 "metadata": {
  "kernelspec": {
   "display_name": "Python 3 (ipykernel)",
   "language": "python",
   "name": "python3"
  },
  "language_info": {
   "codemirror_mode": {
    "name": "ipython",
    "version": 3
   },
   "file_extension": ".py",
   "mimetype": "text/x-python",
   "name": "python",
   "nbconvert_exporter": "python",
   "pygments_lexer": "ipython3",
   "version": "3.9.7"
  }
 },
 "nbformat": 4,
 "nbformat_minor": 5
}
